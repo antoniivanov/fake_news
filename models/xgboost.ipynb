{
 "cells": [
  {
   "cell_type": "code",
   "execution_count": 43,
   "metadata": {
    "collapsed": false
   },
   "outputs": [
    {
     "name": "stderr",
     "output_type": "stream",
     "text": [
      "Exception ignored in: <bound method DMatrix.__del__ of <xgboost.core.DMatrix object at 0x0000019A92245A20>>\n",
      "Traceback (most recent call last):\n",
      "  File \"C:\\Users\\Angel\\AppData\\Local\\conda\\conda\\envs\\py35\\lib\\site-packages\\xgboost\\core.py\", line 324, in __del__\n",
      "    _check_call(_LIB.XGDMatrixFree(self.handle))\n",
      "AttributeError: 'DMatrix' object has no attribute 'handle'\n"
     ]
    }
   ],
   "source": [
    "import pickle\n",
    "import xgboost as xgb\n",
    "\n",
    "import pandas as pd\n",
    "import numpy as np\n",
    "from sklearn.cross_validation import KFold, train_test_split\n",
    "from sklearn.metrics import confusion_matrix, mean_squared_error\n",
    "from sklearn.grid_search import GridSearchCV\n",
    "from sklearn.datasets import load_iris, load_digits, load_boston\n",
    "\n",
    "%matplotlib inline\n",
    "import matplotlib.pyplot as plt\n",
    "import seaborn as sns\n",
    "\n",
    "rng = np.random.RandomState(31337)"
   ]
  },
  {
   "cell_type": "code",
   "execution_count": 44,
   "metadata": {
    "collapsed": false,
    "scrolled": true
   },
   "outputs": [
    {
     "data": {
      "text/html": [
       "<div>\n",
       "<style>\n",
       "    .dataframe thead tr:only-child th {\n",
       "        text-align: right;\n",
       "    }\n",
       "\n",
       "    .dataframe thead th {\n",
       "        text-align: left;\n",
       "    }\n",
       "\n",
       "    .dataframe tbody tr th {\n",
       "        vertical-align: top;\n",
       "    }\n",
       "</style>\n",
       "<table border=\"1\" class=\"dataframe\">\n",
       "  <thead>\n",
       "    <tr style=\"text-align: right;\">\n",
       "      <th></th>\n",
       "      <th>fake_news_score</th>\n",
       "      <th>click_bait_score</th>\n",
       "      <th>Content Title</th>\n",
       "      <th>Content Url</th>\n",
       "      <th>Content Published Time</th>\n",
       "      <th>Content</th>\n",
       "      <th>title_number_words</th>\n",
       "      <th>title_number_char</th>\n",
       "      <th>title_number_symbols</th>\n",
       "      <th>title_number_stopwords</th>\n",
       "      <th>title_avg_char_per_word</th>\n",
       "      <th>title_avg_caps_per_char</th>\n",
       "      <th>body_number_words</th>\n",
       "      <th>body_number_char</th>\n",
       "      <th>body_number_symbols</th>\n",
       "      <th>body_number_stopwords</th>\n",
       "      <th>body_avg_char_per_word</th>\n",
       "      <th>body_avg_caps_per_char</th>\n",
       "    </tr>\n",
       "  </thead>\n",
       "  <tbody>\n",
       "    <tr>\n",
       "      <th>0</th>\n",
       "      <td>1</td>\n",
       "      <td>1</td>\n",
       "      <td>Камил Хабиб: ДАЕШ и „Ан Нусра” са нов терорист...</td>\n",
       "      <td>http://a-specto.bg/kamil-habib-daesh-i-nusra-s...</td>\n",
       "      <td>17.5.2017 18:35</td>\n",
       "      <td>Интервю на Десислава Пътева с Камил Хабиб, дек...</td>\n",
       "      <td>10</td>\n",
       "      <td>58</td>\n",
       "      <td>1</td>\n",
       "      <td>3</td>\n",
       "      <td>4.600000</td>\n",
       "      <td>0.173913</td>\n",
       "      <td>1167</td>\n",
       "      <td>7345</td>\n",
       "      <td>194</td>\n",
       "      <td>519.0</td>\n",
       "      <td>5.083976</td>\n",
       "      <td>0.033878</td>\n",
       "    </tr>\n",
       "    <tr>\n",
       "      <th>1</th>\n",
       "      <td>1</td>\n",
       "      <td>1</td>\n",
       "      <td>ЧЕТИРИТЕ ТИПА ЖЕНИ СПОРЕД ИЗТОЧНИЯ КАЛЕНДАР</td>\n",
       "      <td>http://novini24online.com/jba/113526</td>\n",
       "      <td>17.5.2017 11:48</td>\n",
       "      <td>Романтичната жена Това са жените, родени в год...</td>\n",
       "      <td>6</td>\n",
       "      <td>43</td>\n",
       "      <td>0</td>\n",
       "      <td>0</td>\n",
       "      <td>6.333333</td>\n",
       "      <td>1.000000</td>\n",
       "      <td>1686</td>\n",
       "      <td>11287</td>\n",
       "      <td>434</td>\n",
       "      <td>634.0</td>\n",
       "      <td>5.195136</td>\n",
       "      <td>0.038361</td>\n",
       "    </tr>\n",
       "    <tr>\n",
       "      <th>2</th>\n",
       "      <td>1</td>\n",
       "      <td>1</td>\n",
       "      <td>Арт - Людмила Ким почита премиера за Ванга</td>\n",
       "      <td>http://paper.standartnews.com/bg/article.php?a...</td>\n",
       "      <td>16.5.2017 21:36</td>\n",
       "      <td>Людмила Ким, най-популярната руска лечителка и...</td>\n",
       "      <td>7</td>\n",
       "      <td>42</td>\n",
       "      <td>1</td>\n",
       "      <td>1</td>\n",
       "      <td>4.857143</td>\n",
       "      <td>0.117647</td>\n",
       "      <td>227</td>\n",
       "      <td>1472</td>\n",
       "      <td>41</td>\n",
       "      <td>84.0</td>\n",
       "      <td>5.277533</td>\n",
       "      <td>0.038397</td>\n",
       "    </tr>\n",
       "    <tr>\n",
       "      <th>3</th>\n",
       "      <td>3</td>\n",
       "      <td>3</td>\n",
       "      <td>Истина или не ! Истина ли е дали Бойко е гей и...</td>\n",
       "      <td>http://fakenews.bg/Истина-или-не-Истина-ли-е-д...</td>\n",
       "      <td>16.5.2017 19:40</td>\n",
       "      <td>Истина или не ! Истина ли е дали Бойко е гей и...</td>\n",
       "      <td>16</td>\n",
       "      <td>72</td>\n",
       "      <td>1</td>\n",
       "      <td>8</td>\n",
       "      <td>3.437500</td>\n",
       "      <td>0.109091</td>\n",
       "      <td>668</td>\n",
       "      <td>3727</td>\n",
       "      <td>77</td>\n",
       "      <td>333.0</td>\n",
       "      <td>4.414671</td>\n",
       "      <td>0.047135</td>\n",
       "    </tr>\n",
       "    <tr>\n",
       "      <th>4</th>\n",
       "      <td>1</td>\n",
       "      <td>1</td>\n",
       "      <td>Видеото на Чарли Чаплин, в което няма да се см...</td>\n",
       "      <td>http://blife.eu/видеото-чарли-чаплин-което-ням...</td>\n",
       "      <td>16.5.2017 13:41</td>\n",
       "      <td>Свикнали сме Чарли Чаплин да ни разсмива, да х...</td>\n",
       "      <td>10</td>\n",
       "      <td>51</td>\n",
       "      <td>2</td>\n",
       "      <td>6</td>\n",
       "      <td>4.000000</td>\n",
       "      <td>0.075000</td>\n",
       "      <td>603</td>\n",
       "      <td>3635</td>\n",
       "      <td>100</td>\n",
       "      <td>275.0</td>\n",
       "      <td>4.847430</td>\n",
       "      <td>0.026343</td>\n",
       "    </tr>\n",
       "  </tbody>\n",
       "</table>\n",
       "</div>"
      ],
      "text/plain": [
       "   fake_news_score  click_bait_score  \\\n",
       "0                1                 1   \n",
       "1                1                 1   \n",
       "2                1                 1   \n",
       "3                3                 3   \n",
       "4                1                 1   \n",
       "\n",
       "                                       Content Title  \\\n",
       "0  Камил Хабиб: ДАЕШ и „Ан Нусра” са нов терорист...   \n",
       "1        ЧЕТИРИТЕ ТИПА ЖЕНИ СПОРЕД ИЗТОЧНИЯ КАЛЕНДАР   \n",
       "2         Арт - Людмила Ким почита премиера за Ванга   \n",
       "3  Истина или не ! Истина ли е дали Бойко е гей и...   \n",
       "4  Видеото на Чарли Чаплин, в което няма да се см...   \n",
       "\n",
       "                                         Content Url Content Published Time  \\\n",
       "0  http://a-specto.bg/kamil-habib-daesh-i-nusra-s...        17.5.2017 18:35   \n",
       "1               http://novini24online.com/jba/113526        17.5.2017 11:48   \n",
       "2  http://paper.standartnews.com/bg/article.php?a...        16.5.2017 21:36   \n",
       "3  http://fakenews.bg/Истина-или-не-Истина-ли-е-д...        16.5.2017 19:40   \n",
       "4  http://blife.eu/видеото-чарли-чаплин-което-ням...        16.5.2017 13:41   \n",
       "\n",
       "                                             Content  title_number_words  \\\n",
       "0  Интервю на Десислава Пътева с Камил Хабиб, дек...                  10   \n",
       "1  Романтичната жена Това са жените, родени в год...                   6   \n",
       "2  Людмила Ким, най-популярната руска лечителка и...                   7   \n",
       "3  Истина или не ! Истина ли е дали Бойко е гей и...                  16   \n",
       "4  Свикнали сме Чарли Чаплин да ни разсмива, да х...                  10   \n",
       "\n",
       "   title_number_char  title_number_symbols  title_number_stopwords  \\\n",
       "0                 58                     1                       3   \n",
       "1                 43                     0                       0   \n",
       "2                 42                     1                       1   \n",
       "3                 72                     1                       8   \n",
       "4                 51                     2                       6   \n",
       "\n",
       "   title_avg_char_per_word  title_avg_caps_per_char  body_number_words  \\\n",
       "0                 4.600000                 0.173913               1167   \n",
       "1                 6.333333                 1.000000               1686   \n",
       "2                 4.857143                 0.117647                227   \n",
       "3                 3.437500                 0.109091                668   \n",
       "4                 4.000000                 0.075000                603   \n",
       "\n",
       "   body_number_char  body_number_symbols  body_number_stopwords  \\\n",
       "0              7345                  194                  519.0   \n",
       "1             11287                  434                  634.0   \n",
       "2              1472                   41                   84.0   \n",
       "3              3727                   77                  333.0   \n",
       "4              3635                  100                  275.0   \n",
       "\n",
       "   body_avg_char_per_word  body_avg_caps_per_char  \n",
       "0                5.083976                0.033878  \n",
       "1                5.195136                0.038361  \n",
       "2                5.277533                0.038397  \n",
       "3                4.414671                0.047135  \n",
       "4                4.847430                0.026343  "
      ]
     },
     "execution_count": 44,
     "metadata": {},
     "output_type": "execute_result"
    }
   ],
   "source": [
    "data = pd.read_csv(\"../data/train_data_features.csv\").drop('Unnamed: 0', axis=1)\n",
    "data.head()"
   ]
  },
  {
   "cell_type": "code",
   "execution_count": 45,
   "metadata": {
    "collapsed": false
   },
   "outputs": [],
   "source": [
    "X = data.drop(['fake_news_score',\n",
    "              \"click_bait_score\",\n",
    "              \"Content Title\",\n",
    "              \"Content Url\",\n",
    "              \"Content Published Time\",\n",
    "              \"Content\"], axis=1).as_matrix()\n",
    "\n",
    "y = data.fake_news_score.as_matrix()\n",
    "y = (y - 1) / 2"
   ]
  },
  {
   "cell_type": "code",
   "execution_count": 46,
   "metadata": {
    "collapsed": false
   },
   "outputs": [
    {
     "name": "stdout",
     "output_type": "stream",
     "text": [
      "[[ 61 386]\n",
      " [ 47 914]]\n",
      "[[ 78 350]\n",
      " [ 98 881]]\n"
     ]
    }
   ],
   "source": [
    "kf = KFold(y.shape[0], n_folds=2, shuffle=True, random_state=rng)\n",
    "for train_index, test_index in kf:\n",
    "    xgb_model = xgb.XGBClassifier().fit(X[train_index],y[train_index])\n",
    "    predictions = xgb_model.predict(X[test_index])\n",
    "    actuals = y[test_index]\n",
    "    print(confusion_matrix(actuals, predictions))\n"
   ]
  },
  {
   "cell_type": "code",
   "execution_count": 47,
   "metadata": {
    "collapsed": false
   },
   "outputs": [
    {
     "data": {
      "text/plain": [
       "0.73321492007104794"
      ]
     },
     "execution_count": 47,
     "metadata": {},
     "output_type": "execute_result"
    }
   ],
   "source": [
    "xgb_model.score(X, y)"
   ]
  },
  {
   "cell_type": "code",
   "execution_count": 31,
   "metadata": {
    "collapsed": false
   },
   "outputs": [],
   "source": [
    "data.fillna(value=\"\", inplace=True)"
   ]
  },
  {
   "cell_type": "code",
   "execution_count": 25,
   "metadata": {
    "collapsed": false
   },
   "outputs": [],
   "source": [
    "import re\n",
    "import pandas as pd\n",
    "\n",
    "def sentence2wordlist(raw, language='bg+en'):\n",
    "    \"\"\"language: 'bg+en', 'bg', 'en', 'symbol'\"\"\"\n",
    "    if language == 'bg+en':\n",
    "        regex = \"[^а-яА-Яa-zA-Z]\"\n",
    "    elif language == 'bg':\n",
    "        regex = \"[^а-яА-Я]\"\n",
    "    elif language == 'en':\n",
    "        regex = \"[^a-zA-Z]\"\n",
    "    elif language == 'symbol':\n",
    "        regex = \"[^-!$%^&*()_+|~=`{}\\[\\]:\\\";'<>?,.\\/]\"\n",
    "    elif language == '!':\n",
    "        regex = \"[^?!]\"\n",
    "    clean = re.sub(regex,\" \", raw)\n",
    "    words = clean.split()\n",
    "    return words"
   ]
  },
  {
   "cell_type": "code",
   "execution_count": 27,
   "metadata": {
    "collapsed": false
   },
   "outputs": [],
   "source": [
    "data[\"title_len\"] = data[\"Content Title\"].apply(lambda x: len(sentence2wordlist(x)))"
   ]
  },
  {
   "cell_type": "code",
   "execution_count": 32,
   "metadata": {
    "collapsed": false
   },
   "outputs": [],
   "source": [
    "data[\"body_len\"] = data[\"Content\"].apply(lambda x: len(sentence2wordlist(x)))"
   ]
  },
  {
   "cell_type": "code",
   "execution_count": 33,
   "metadata": {
    "collapsed": false
   },
   "outputs": [
    {
     "data": {
      "text/plain": [
       "<matplotlib.axes._subplots.AxesSubplot at 0x19a9204e550>"
      ]
     },
     "execution_count": 33,
     "metadata": {},
     "output_type": "execute_result"
    },
    {
     "data": {
      "image/png": "[encoded data removed]",
      "text/plain": [
       "<matplotlib.figure.Figure at 0x19a92130278>"
      ]
     },
     "metadata": {},
     "output_type": "display_data"
    }
   ],
   "source": [
    "data.body_len.plot.hist()"
   ]
  },
  {
   "cell_type": "code",
   "execution_count": 34,
   "metadata": {
    "collapsed": false
   },
   "outputs": [
    {
     "data": {
      "text/plain": [
       "<matplotlib.axes._subplots.AxesSubplot at 0x19a9219e828>"
      ]
     },
     "execution_count": 34,
     "metadata": {},
     "output_type": "execute_result"
    },
    {
     "data": {
      "image/png": "[encoded data removed]",
      "text/plain": [
       "<matplotlib.figure.Figure at 0x19a92275438>"
      ]
     },
     "metadata": {},
     "output_type": "display_data"
    }
   ],
   "source": [
    "data.title_len.plot.hist()"
   ]
  },
  {
   "cell_type": "code",
   "execution_count": null,
   "metadata": {
    "collapsed": true
   },
   "outputs": [],
   "source": []
  }
 ],
 "metadata": {
  "kernelspec": {
   "display_name": "Python 3",
   "language": "python",
   "name": "python3"
  },
  "language_info": {
   "codemirror_mode": {
    "name": "ipython",
    "version": 3
   },
   "file_extension": ".py",
   "mimetype": "text/x-python",
   "name": "python",
   "nbconvert_exporter": "python",
   "pygments_lexer": "ipython3",
   "version": "3.5.2"
  }
 },
 "nbformat": 4,
 "nbformat_minor": 2
}
