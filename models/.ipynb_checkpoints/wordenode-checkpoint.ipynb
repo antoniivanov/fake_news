{
 "cells": [
  {
   "cell_type": "code",
   "execution_count": 6,
   "metadata": {
    "collapsed": true
   },
   "outputs": [
    {
     "name": "stdout",
     "output_type": "stream",
     "text": [
      "\"владетел\"\t- similarity: 0.746049\n",
      "\"шишман\"\t- similarity: 0.708926\n",
      "\"царя\"\t- similarity: 0.70336\n",
      "\"княз\"\t- similarity: 0.689404\n",
      "\"царят\"\t- similarity: 0.654675\n",
      "[ -3.39954078e-01  -2.09719300e+00   4.73419619e+00  -9.51098382e-01\n",
      "  -4.51263046e+00  -1.85434139e+00   1.73520482e+00   5.39417326e-01\n",
      "  -1.85913050e+00   4.06972694e+00  -1.12680614e+00  -2.74405062e-01\n",
      "   2.09805441e+00   2.69926405e+00   9.28487957e-01   7.27236652e+00\n",
      "  -1.73883021e+00   4.07424307e+00   2.56623960e+00   1.63010895e+00\n",
      "   2.33146381e+00   2.64626741e+00  -3.11629064e-02  -4.26778793e+00\n",
      "   4.29516792e+00   2.20755503e-01  -2.26386857e+00   1.17335320e+00\n",
      "  -1.40364230e+00   9.47965026e-01   2.57381773e+00   3.26055676e-01\n",
      "   3.31277639e-01  -3.32184911e-01   3.69666147e+00  -6.89469092e-03\n",
      "   8.69615376e-01  -8.73251736e-01  -1.83429110e+00   1.69520006e-01\n",
      "  -1.68821883e+00  -2.23648882e+00  -3.08692288e+00  -6.75620198e-01\n",
      "  -4.31026554e+00  -3.42264748e+00   5.10256767e+00   1.95283449e+00\n",
      "   3.35873775e-02   8.64957366e-03  -1.87734210e+00   3.79652882e+00\n",
      "   4.18273067e+00   4.78545308e-01   1.05169606e+00  -8.25557470e-01\n",
      "   2.48102212e+00   2.22217798e+00  -5.38497591e+00  -1.30630100e+00\n",
      "   3.29167557e+00   1.98529327e+00   4.74549484e+00   6.54416275e+00\n",
      "  -6.85506344e+00  -2.34145498e+00  -2.11500669e+00   2.10878015e+00\n",
      "   5.32546377e+00  -2.01497030e+00  -1.57281888e+00  -1.58645892e+00\n",
      "   1.80061531e+00  -2.01735586e-01  -7.00977612e+00  -3.76742697e+00\n",
      "   3.93357968e+00   4.23963499e+00   2.73725152e+00  -8.54985490e-02\n",
      "   1.73564509e-01  -5.28668356e+00  -2.55557847e+00   2.87184787e+00\n",
      "  -2.42775989e+00  -3.28001714e+00   5.20780385e-01   2.96139741e+00\n",
      "  -2.39147019e+00   1.57672858e+00  -2.59196019e+00   2.47840381e+00\n",
      "   1.92813456e+00   5.18255043e+00  -6.08800459e+00   1.98193509e-02\n",
      "   1.97446561e+00   5.27627039e+00   4.01489496e+00   3.67683887e+00]\n"
     ]
    }
   ],
   "source": [
    "# -*- coding: utf-8 -*-\n",
    "\n",
    "import os\n",
    "import pdb\n",
    "import gensim\n",
    "\n",
    "word2vec_modelpath = \"../w2v_embeddings/bgwiki_word2vec_news_100\"\n",
    "\n",
    "# load word2vec model\n",
    "model = gensim.models.Word2Vec.load(word2vec_modelpath, mmap='r')"
   ]
  },
  {
   "cell_type": "code",
   "execution_count": 63,
   "metadata": {
    "collapsed": false
   },
   "outputs": [],
   "source": [
    "def simscore(s):\n",
    "    print('eulc')\n",
    "    print(model.most_similar(positive=[s], topn=5))\n",
    "    print('cos')\n",
    "    print(model.most_similar_cosmul(positive=[s], topn=5))\n",
    "\n",
    "    # get coordinates for a particular word\n",
    "    print(model.wv[s])"
   ]
  },
  {
   "cell_type": "code",
   "execution_count": 19,
   "metadata": {
    "collapsed": true
   },
   "outputs": [],
   "source": [
    "%matplotlib inline\n",
    "import matplotlib.pyplot as plt\n",
    "import pandas as pd\n",
    "import numpy as np\n",
    "import seaborn as sns"
   ]
  },
  {
   "cell_type": "code",
   "execution_count": 27,
   "metadata": {
    "collapsed": true
   },
   "outputs": [],
   "source": [
    "data = pd.read_csv(\"../data/train_data_features.csv\").drop('Unnamed: 0', axis=1)\n",
    "titles = data[\"Content Title\"]\n",
    "y=data.fake_news_score.as_matrix()"
   ]
  },
  {
   "cell_type": "code",
   "execution_count": 80,
   "metadata": {
    "collapsed": true
   },
   "outputs": [],
   "source": [
    "import re\n",
    "import pandas as pd\n",
    "\n",
    "def sentence2wordlist(raw, language='bg+en'):\n",
    "    \"\"\"language: 'bg+en', 'bg', 'en', 'symbol'\"\"\"\n",
    "    if language == 'bg+en':\n",
    "        regex = \"[^а-яА-Яa-zA-Z]\"\n",
    "    elif language == 'bg':\n",
    "        regex = \"[^а-яА-Я]\"\n",
    "    elif language == 'en':\n",
    "        regex = \"[^a-zA-Z]\"\n",
    "    elif language == 'symbol':\n",
    "        regex = \"[^-!$%^&*()_+|~=`{}\\[\\]:\\\";'<>?,.\\/]\"\n",
    "    elif language == '!':\n",
    "        regex = \"[^?!]\"\n",
    "    clean = re.sub(regex,\" \", raw)\n",
    "    words = clean.split()\n",
    "    return words"
   ]
  },
  {
   "cell_type": "code",
   "execution_count": 130,
   "metadata": {
    "collapsed": false
   },
   "outputs": [],
   "source": [
    "title_vects = []\n",
    "for sent in titles:\n",
    "    word_vects = []\n",
    "    words = sentence2wordlist(sent)\n",
    "    for w in words:\n",
    "        try:\n",
    "            word_vects.append(model.wv[w])\n",
    "        except:\n",
    "            word_vects.append(np.zeros(shape=(100,)))\n",
    "    title_vects.append(np.array(word_vects))\n",
    "    \n",
    "avg_title_vects = []\n",
    "for key, vec in enumerate(title_vects):\n",
    "    try:\n",
    "        avg_title_vects.append(vec.sum(axis=0))\n",
    "    except:\n",
    "        pass"
   ]
  },
  {
   "cell_type": "code",
   "execution_count": 142,
   "metadata": {
    "collapsed": false
   },
   "outputs": [],
   "source": [
    "import pickle\n",
    "import xgboost as xgb\n",
    "\n",
    "import pandas as pd\n",
    "import numpy as np\n",
    "from sklearn.cross_validation import KFold, train_test_split\n",
    "from sklearn.metrics import confusion_matrix, mean_squared_error\n",
    "from sklearn.grid_search import GridSearchCV\n",
    "from sklearn.datasets import load_iris, load_digits, load_boston\n",
    "\n",
    "%matplotlib inline\n",
    "import matplotlib.pyplot as plt\n",
    "import seaborn as sns\n",
    "\n",
    "rng = np.random.RandomState(31337)\n",
    "\n",
    "X = data.drop(['fake_news_score',\n",
    "              \"click_bait_score\",\n",
    "              \"Content Title\",\n",
    "              \"Content Url\",\n",
    "              \"Content Published Time\",\n",
    "              \"Content\"], axis=1).fillna(value=0).as_matrix()\n",
    "\n",
    "y = data.fake_news_score.as_matrix()"
   ]
  },
  {
   "cell_type": "code",
   "execution_count": 143,
   "metadata": {
    "collapsed": false
   },
   "outputs": [],
   "source": [
    "X = np.concatenate((np.array(avg_title_vects), X), axis=1)"
   ]
  },
  {
   "cell_type": "code",
   "execution_count": 144,
   "metadata": {
    "collapsed": true
   },
   "outputs": [
    {
     "name": "stderr",
     "output_type": "stream",
     "text": [
      "                                                                                                                                                       \r"
     ]
    },
    {
     "name": "stdout",
     "output_type": "stream",
     "text": [
      "\n"
     ]
    },
    {
     "name": "stderr",
     "output_type": "stream",
     "text": [
      "                                                                                                                                                       \r"
     ]
    },
    {
     "name": "stdout",
     "output_type": "stream",
     "text": [
      "TPOT closed prematurely. Will use the current best pipeline.\n"
     ]
    },
    {
     "name": "stderr",
     "output_type": "stream",
     "text": [
      "                                                                                                                                                       \r"
     ]
    },
    {
     "ename": "RuntimeError",
     "evalue": "A pipeline has not yet been optimized. Please call fit() first.",
     "output_type": "error",
     "traceback": [
      "\u001b[0;31m---------------------------------------------------------------------------\u001b[0m",
      "\u001b[0;31mRuntimeError\u001b[0m                              Traceback (most recent call last)",
      "\u001b[0;32m<ipython-input-144-9d7bc9a74b60>\u001b[0m in \u001b[0;36m<module>\u001b[0;34m()\u001b[0m\n\u001b[1;32m      7\u001b[0m \u001b[0mtpot\u001b[0m \u001b[1;33m=\u001b[0m \u001b[0mTPOTClassifier\u001b[0m\u001b[1;33m(\u001b[0m\u001b[0mgenerations\u001b[0m\u001b[1;33m=\u001b[0m\u001b[1;36m5\u001b[0m\u001b[1;33m,\u001b[0m \u001b[0mpopulation_size\u001b[0m\u001b[1;33m=\u001b[0m\u001b[1;36m50\u001b[0m\u001b[1;33m,\u001b[0m \u001b[0mverbosity\u001b[0m\u001b[1;33m=\u001b[0m\u001b[1;36m2\u001b[0m\u001b[1;33m)\u001b[0m\u001b[1;33m\u001b[0m\u001b[0m\n\u001b[1;32m      8\u001b[0m \u001b[0mtpot\u001b[0m\u001b[1;33m.\u001b[0m\u001b[0mfit\u001b[0m\u001b[1;33m(\u001b[0m\u001b[0mX_train\u001b[0m\u001b[1;33m,\u001b[0m \u001b[0my_train\u001b[0m\u001b[1;33m)\u001b[0m\u001b[1;33m\u001b[0m\u001b[0m\n\u001b[0;32m----> 9\u001b[0;31m \u001b[0mprint\u001b[0m\u001b[1;33m(\u001b[0m\u001b[0mtpot\u001b[0m\u001b[1;33m.\u001b[0m\u001b[0mscore\u001b[0m\u001b[1;33m(\u001b[0m\u001b[0mX_test\u001b[0m\u001b[1;33m,\u001b[0m \u001b[0my_test\u001b[0m\u001b[1;33m)\u001b[0m\u001b[1;33m)\u001b[0m\u001b[1;33m\u001b[0m\u001b[0m\n\u001b[0m",
      "\u001b[0;32mC:\\Users\\Angel\\AppData\\Local\\conda\\conda\\envs\\py35\\lib\\site-packages\\tpot\\base.py\u001b[0m in \u001b[0;36mscore\u001b[0;34m(self, testing_features, testing_classes)\u001b[0m\n\u001b[1;32m    568\u001b[0m         \"\"\"\n\u001b[1;32m    569\u001b[0m         \u001b[1;32mif\u001b[0m \u001b[0mself\u001b[0m\u001b[1;33m.\u001b[0m\u001b[0m_fitted_pipeline\u001b[0m \u001b[1;32mis\u001b[0m \u001b[1;32mNone\u001b[0m\u001b[1;33m:\u001b[0m\u001b[1;33m\u001b[0m\u001b[0m\n\u001b[0;32m--> 570\u001b[0;31m             \u001b[1;32mraise\u001b[0m \u001b[0mRuntimeError\u001b[0m\u001b[1;33m(\u001b[0m\u001b[1;34m'A pipeline has not yet been optimized. Please call fit() first.'\u001b[0m\u001b[1;33m)\u001b[0m\u001b[1;33m\u001b[0m\u001b[0m\n\u001b[0m\u001b[1;32m    571\u001b[0m \u001b[1;33m\u001b[0m\u001b[0m\n\u001b[1;32m    572\u001b[0m         \u001b[1;31m# If the scoring function is a string, we must adjust to use the sklearn scoring interface\u001b[0m\u001b[1;33m\u001b[0m\u001b[1;33m\u001b[0m\u001b[0m\n",
      "\u001b[0;31mRuntimeError\u001b[0m: A pipeline has not yet been optimized. Please call fit() first."
     ]
    }
   ],
   "source": [
    "from sklearn.model_selection import train_test_split\n",
    "\n",
    "X_train, X_test, y_train, y_test = train_test_split(X, y,\n",
    "                                                    train_size=0.75, test_size=0.25)\n"
   ]
  },
  {
   "cell_type": "code",
   "execution_count": 145,
   "metadata": {
    "collapsed": false
   },
   "outputs": [
    {
     "name": "stdout",
     "output_type": "stream",
     "text": [
      "[[ 56 171]\n",
      " [ 29 448]]\n"
     ]
    }
   ],
   "source": [
    "xgb_model = xgb.XGBClassifier().fit(X_train,y_train)\n",
    "predictions = xgb_model.predict(X_test)\n",
    "actuals = y_test\n",
    "print(confusion_matrix(actuals, predictions))"
   ]
  },
  {
   "cell_type": "code",
   "execution_count": 148,
   "metadata": {
    "collapsed": false
   },
   "outputs": [
    {
     "data": {
      "text/plain": [
       "0.71590909090909094"
      ]
     },
     "execution_count": 148,
     "metadata": {},
     "output_type": "execute_result"
    }
   ],
   "source": [
    "(predictions == actuals).sum()/len(predictions == actuals)"
   ]
  },
  {
   "cell_type": "code",
   "execution_count": null,
   "metadata": {
    "collapsed": true
   },
   "outputs": [],
   "source": []
  }
 ],
 "metadata": {
  "kernelspec": {
   "display_name": "Python 3",
   "language": "python",
   "name": "python3"
  },
  "language_info": {
   "codemirror_mode": {
    "name": "ipython",
    "version": 3
   },
   "file_extension": ".py",
   "mimetype": "text/x-python",
   "name": "python",
   "nbconvert_exporter": "python",
   "pygments_lexer": "ipython3",
   "version": "3.5.2"
  }
 },
 "nbformat": 4,
 "nbformat_minor": 2
}
